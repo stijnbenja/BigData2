{
 "cells": [
  {
   "cell_type": "code",
   "execution_count": 3,
   "metadata": {},
   "outputs": [],
   "source": [
    "import pandas as pd\n",
    "import numpy as np\n",
    "from sklearn import metrics\n",
    "from sklearn import ensemble\n",
    "from sklearn import linear_model\n",
    "import seaborn as sns\n",
    "import matplotlib.pyplot as plt\n",
    "from functions import get_baskets, get_coupons, get_prediction_index, get_3_files\n",
    "from functions import split_4_way\n",
    "import warnings\n",
    "from pandas.core.common import SettingWithCopyWarning\n",
    "warnings.simplefilter(action='ignore', category=FutureWarning)\n",
    "warnings.simplefilter(action=\"ignore\", category=SettingWithCopyWarning)"
   ]
  },
  {
   "cell_type": "code",
   "execution_count": 2,
   "metadata": {},
   "outputs": [],
   "source": [
    "takes = lambda n_old, n_new, time_old: print(f'Will take {int((time_old/n_old*n_new)/60)}m {int((time_old/n_old*n_new)%60)}s') "
   ]
  },
  {
   "cell_type": "markdown",
   "metadata": {},
   "source": [
    "# Loading datasets"
   ]
  },
  {
   "cell_type": "code",
   "execution_count": 3,
   "metadata": {},
   "outputs": [],
   "source": [
    "baskets, coupons, prediction_index = get_3_files()\n",
    "customers = (1000,2000)\n",
    "n_customers = customers[1] - customers[0]\n",
    "baskets = baskets[(baskets['customer'] > customers[0]) & (baskets['customer'] < customers[1])]"
   ]
  },
  {
   "cell_type": "markdown",
   "metadata": {},
   "source": [
    "# Creating: Universal base"
   ]
  },
  {
   "cell_type": "code",
   "execution_count": 3,
   "metadata": {},
   "outputs": [],
   "source": [
    "def create_base(weeks=range(90), customers=range(2000)):\n",
    "    products = range(250)\n",
    "    n_weeks, n_customers, n_products = len(weeks), len(customers), len(products)\n",
    "\n",
    "    base = pd.DataFrame({\n",
    "    'week': np.array([[x] * n_products * n_customers for x in weeks]).flatten(),\n",
    "    'customer': np.array([[x] * n_products for x in customers] * n_weeks).flatten(),\n",
    "    'product': list(range(n_products)) * n_customers * n_weeks\n",
    "    })\n",
    "    \n",
    "    return base"
   ]
  },
  {
   "cell_type": "markdown",
   "metadata": {},
   "source": [
    "# Adding: Basket information"
   ]
  },
  {
   "cell_type": "code",
   "execution_count": 4,
   "metadata": {},
   "outputs": [],
   "source": [
    "def add_basket_info(base, baskets):\n",
    "    base = pd.merge(base, baskets, on=['week', 'customer','product'], how='left')\n",
    "    base['price'] = base['price'].fillna(0).astype(int)\n",
    "    base['isBought'] = (base['price'] > 0)\n",
    "    base['basket'] = base['week'].astype(str) + '_' + base['customer'].astype(str)\n",
    "    return base"
   ]
  },
  {
   "cell_type": "markdown",
   "metadata": {},
   "source": [
    "# Adding: Coupon information"
   ]
  },
  {
   "cell_type": "code",
   "execution_count": 5,
   "metadata": {},
   "outputs": [],
   "source": [
    "def add_coupon_info(base, baskets, coupons):\n",
    "    base = pd.merge(base, coupons, on=['week', 'customer','product'], how='left')\n",
    "    base['discount'] = base['discount'].fillna(0).astype(int)\n",
    "    base = base.rename(columns={\"discount\": \"dGiven\"})\n",
    "    base['isGiven'] = (base['dGiven'] > 0)\n",
    "\n",
    "    normal_prices = baskets.groupby('product')['price'].max().values\n",
    "    base['highestPrice'] = base['product'].apply(lambda x: normal_prices[x])\n",
    "    base['isUsed'] = ((base['price'] != base['highestPrice']) & (base['price']!=0))\n",
    "    base.drop('highestPrice', axis=1, inplace=True)\n",
    "    return base"
   ]
  },
  {
   "cell_type": "markdown",
   "metadata": {},
   "source": [
    "# Finding: Categories"
   ]
  },
  {
   "cell_type": "code",
   "execution_count": 7,
   "metadata": {},
   "outputs": [],
   "source": [
    "\n",
    "# base = create_base(customers=range(1000,2000),weeks=range(89))\n",
    "# base = add_basket_info(base,baskets)\n",
    "# \n",
    "# n_baskets = base['basket'].nunique()\n",
    "# \n",
    "# matrix = np.matrix([np.array(base.iloc[x*250:x*250+250,:].loc[:,'isBought']) for x in range(n_baskets)]).astype(int)\n",
    "# \n",
    "# occurency_matrix = matrix.T.dot(matrix)\n",
    "# occurency_matrix[occurency_matrix > 1] = 1\n",
    "# \n",
    "# sns.set(rc={'figure.figsize':(6,5)})\n",
    "# sns.heatmap(occurency_matrix, annot=False)\n",
    "# plt.savefig(\"full.png\")\n"
   ]
  },
  {
   "cell_type": "code",
   "execution_count": 8,
   "metadata": {},
   "outputs": [],
   "source": [
    "# sns.heatmap(occurency_matrix[:31,:31], annot=False)\n",
    "# plt.savefig(\"part.png\")"
   ]
  },
  {
   "cell_type": "markdown",
   "metadata": {},
   "source": [
    "# Adding: Categories"
   ]
  },
  {
   "cell_type": "code",
   "execution_count": 9,
   "metadata": {},
   "outputs": [],
   "source": [
    "def add_categories(base):\n",
    "    base['category'] = (base['product'] / 10).astype(int)\n",
    "    return base"
   ]
  },
  {
   "cell_type": "markdown",
   "metadata": {},
   "source": [
    "# Adding: Probabilities (product & category)"
   ]
  },
  {
   "cell_type": "code",
   "execution_count": 11,
   "metadata": {},
   "outputs": [],
   "source": [
    "def add_frequencies(base, baskets):\n",
    "    \n",
    "    baskets.loc[:,'category'] = (baskets['product'].astype(int) / 10).astype(int)\n",
    "    n_weeks = baskets['week'].nunique()\n",
    "    \n",
    "    prod_probs_df = (\n",
    "        baskets.groupby(['customer','product'])['week'].count() / n_weeks) \\\n",
    "        .reset_index() \\\n",
    "        .rename(columns={'week':'probability'})\n",
    "\n",
    "    cat_probs_df = (\n",
    "        baskets.groupby(['customer','category'])['week'].count() / n_weeks) \\\n",
    "        .reset_index() \\\n",
    "        .rename(columns={'week':'probability'})\n",
    "        \n",
    "    base = pd.merge(base, prod_probs_df, on=['customer','product'] ,how='left')\n",
    "    base = pd.merge(base, cat_probs_df, on=['customer','category'] ,how='left')\n",
    "    \n",
    "    base.rename(columns={'probability_x':'p_prod', 'probability_y':'p_cat'},inplace=True)\n",
    "    \n",
    "    base[['p_prod','p_cat']] = base[['p_prod','p_cat']].fillna(0)\n",
    "    \n",
    "    return base"
   ]
  },
  {
   "cell_type": "markdown",
   "metadata": {},
   "source": [
    "# Adding: Rolling frequencies"
   ]
  },
  {
   "cell_type": "code",
   "execution_count": 12,
   "metadata": {},
   "outputs": [],
   "source": [
    "def get_rolling_frequencies(n_weeks=5, category=False):\n",
    "    \n",
    "    rolling_df = pd.DataFrame()\n",
    "    \n",
    "    for week_nr in range(n_weeks,89+1):\n",
    "\n",
    "        start = week_nr - n_weeks - 1\n",
    "        end = week_nr\n",
    "\n",
    "        single_week = (\n",
    "            base[(start < base['week']) & (base['week'] < end)] \n",
    "            .groupby(['customer',f\"{'category' if category else 'product'}\"]) \n",
    "            .agg({'week':'last','isBought':'sum'}) \n",
    "            .reset_index()\n",
    "            )\n",
    "        \n",
    "        single_week['week'] = single_week['week'] + 1\n",
    "        single_week['isBought'] = single_week['isBought'] / n_weeks\n",
    "        rolling_df = pd.concat([rolling_df, single_week])\n",
    "    \n",
    "    return rolling_df"
   ]
  },
  {
   "cell_type": "code",
   "execution_count": 13,
   "metadata": {},
   "outputs": [],
   "source": [
    "def add_rolling_frequencies(base):\n",
    "    \n",
    "    values = [5,10,30]\n",
    "    prod_names = [f'roll_prod_{value}' for value in values]\n",
    "    cat_names  = [f'roll_cat_{value}' for value in values]\n",
    "\n",
    "    for i, name in enumerate(prod_names):\n",
    "        rolled = get_rolling_frequencies(n_weeks=values[i]).rename(columns={'isBought':name})\n",
    "        base = pd.merge(base, rolled, on=['week','customer','product'],how='left')\n",
    "\n",
    "    for i, name in enumerate(cat_names):\n",
    "        rolled = get_rolling_frequencies(n_weeks=values[i], category=True).rename(columns={'isBought':name})\n",
    "        base2 = pd.merge(base, rolled, on=['week','customer','category'],how='left') \n",
    "        \n",
    "    base.loc[:,prod_names[0]:] = base2.loc[:,prod_names[0]:].fillna(0)  \n",
    "    \n",
    "    return base"
   ]
  },
  {
   "cell_type": "markdown",
   "metadata": {},
   "source": [
    "# Adding: Weeks since last buy (per product and per category)"
   ]
  },
  {
   "cell_type": "code",
   "execution_count": 14,
   "metadata": {},
   "outputs": [],
   "source": [
    "def buy_weeks_to_ago(buy_weeks):\n",
    "    weeks_past = 90\n",
    "    val = []\n",
    "    bought = False\n",
    "\n",
    "    for i in range(90):\n",
    "        if i in buy_weeks:\n",
    "            weeks_past = 0\n",
    "            val.append(weeks_past)\n",
    "            bought = True\n",
    "        elif(bought==True): \n",
    "            weeks_past += 1 \n",
    "            val.append(weeks_past)\n",
    "        else:\n",
    "            val.append(90)\n",
    "    return val"
   ]
  },
  {
   "cell_type": "code",
   "execution_count": 15,
   "metadata": {},
   "outputs": [],
   "source": [
    "def add_weeks_ago(base):\n",
    "    \n",
    "    only_bought = base[base['isBought']==1]\n",
    "    pairs = only_bought.groupby(['customer','product']).size().reset_index(inplace=False)\n",
    "\n",
    "    all_pairs = pd.DataFrame()\n",
    "\n",
    "    for i in range(len(pairs)):\n",
    "        customer = pairs.iloc[i,0]\n",
    "        product = pairs.iloc[i,1]\n",
    "        \n",
    "        df = pd.DataFrame({\n",
    "            'week':range(90),\n",
    "            'customer':customer, \n",
    "            'product':product, \n",
    "            })\n",
    "        \n",
    "        buy_weeks = list(only_bought[(only_bought['product']==product) & (only_bought['customer']==customer)]['week'])\n",
    "        df['weeks_ago'] = buy_weeks_to_ago(buy_weeks)\n",
    "        all_pairs = pd.concat([all_pairs,df])\n",
    "        \n",
    "    base = pd.merge(base, all_pairs, on=['week','customer','product'],how='left').fillna(90)\n",
    "    \n",
    "    return base"
   ]
  },
  {
   "cell_type": "markdown",
   "metadata": {},
   "source": [
    "# Actually creating bases"
   ]
  },
  {
   "cell_type": "code",
   "execution_count": 17,
   "metadata": {},
   "outputs": [],
   "source": [
    "unkown = 89\n",
    "customers = (1500,2000)\n",
    "n_customers = customers[1] - customers[0]\n",
    "ranger = range(*customers)"
   ]
  },
  {
   "cell_type": "code",
   "execution_count": 18,
   "metadata": {},
   "outputs": [],
   "source": [
    "baskets = get_baskets()\n",
    "baskets = baskets[(baskets['customer'] > customers[0]) & (baskets['customer'] < customers[1])]\n",
    "baskets = baskets[baskets['week']<unkown]\n",
    "\n",
    "coupons = get_coupons()\n",
    "coupons = coupons[(coupons['customer'] > customers[0]) & (coupons['customer'] < customers[1])]\n",
    "coupons = coupons[coupons['week']<unkown]"
   ]
  },
  {
   "cell_type": "markdown",
   "metadata": {},
   "source": [
    "## Training base"
   ]
  },
  {
   "cell_type": "markdown",
   "metadata": {},
   "source": [
    "As the data is consecutive we will create a base dataframe for both training and testing in 1. Then we will split them into to seperate datasets. When eventually predicting week 90 we will do the same. We will however only use the baskets & coupons datasets that contain information about all the weeks before the week that needs predicting. Direct coupon and basket related values will likely be set to false or to 0."
   ]
  },
  {
   "cell_type": "code",
   "execution_count": 19,
   "metadata": {},
   "outputs": [],
   "source": [
    "base = create_base(customers=ranger,weeks=range(unkown+1))\n",
    "base = add_basket_info(base, baskets)\n",
    "base = add_coupon_info(base, baskets, coupons)\n",
    "base = add_categories(base)\n",
    "base = add_frequencies(base, baskets) #Will generate frequencies based on available basket info"
   ]
  },
  {
   "cell_type": "code",
   "execution_count": 119,
   "metadata": {},
   "outputs": [
    {
     "name": "stdout",
     "output_type": "stream",
     "text": [
      "Will take 9m 25s\n"
     ]
    }
   ],
   "source": [
    "takes(500,n_customers,240)\n",
    "base = add_rolling_frequencies(base)"
   ]
  },
  {
   "cell_type": "code",
   "execution_count": 121,
   "metadata": {},
   "outputs": [
    {
     "name": "stdout",
     "output_type": "stream",
     "text": [
      "Will take 14m 30s\n"
     ]
    }
   ],
   "source": [
    "takes(100,n_customers,174)\n",
    "#base = add_weeks_ago(base)"
   ]
  },
  {
   "cell_type": "markdown",
   "metadata": {},
   "source": [
    "Some columns will be useless for predictions these are 'basket' and 'price'. Basket is a never before seen string. Price will be set to zero which is untrue we don't know how much they'll spend."
   ]
  },
  {
   "cell_type": "code",
   "execution_count": 123,
   "metadata": {},
   "outputs": [],
   "source": [
    "base = base.drop([\n",
    "    'price',\n",
    "    'basket'\n",
    "    ],axis=1)"
   ]
  },
  {
   "cell_type": "markdown",
   "metadata": {},
   "source": [
    "## Splitting bases"
   ]
  },
  {
   "cell_type": "code",
   "execution_count": 124,
   "metadata": {},
   "outputs": [],
   "source": [
    "train = base[base['week']<unkown]\n",
    "x_train = train.drop('isBought', axis=1)\n",
    "y_train = train['isBought']"
   ]
  },
  {
   "cell_type": "code",
   "execution_count": 125,
   "metadata": {},
   "outputs": [],
   "source": [
    "test = base[base['week']==unkown]\n",
    "x_test = test.drop('isBought', axis=1)"
   ]
  },
  {
   "cell_type": "code",
   "execution_count": 126,
   "metadata": {},
   "outputs": [],
   "source": [
    "forbidden_baskets = get_baskets()\n",
    "forbidden_baskets = forbidden_baskets[forbidden_baskets['week']==unkown]\n",
    "\n",
    "y_test = create_base(weeks=range(unkown, unkown+1),customers=ranger)\n",
    "y_test = add_basket_info(y_test,baskets=forbidden_baskets)['isBought'].values"
   ]
  },
  {
   "cell_type": "markdown",
   "metadata": {},
   "source": [
    "# Modelling"
   ]
  },
  {
   "cell_type": "code",
   "execution_count": 4,
   "metadata": {},
   "outputs": [],
   "source": [
    "models = [\n",
    "    ensemble.RandomForestClassifier(), #2.6%\n",
    "    ensemble.GradientBoostingClassifier(), #1.9%\n",
    "    ensemble.HistGradientBoostingClassifier() #2.4%\n",
    "] "
   ]
  },
  {
   "cell_type": "code",
   "execution_count": 5,
   "metadata": {},
   "outputs": [
    {
     "name": "stdout",
     "output_type": "stream",
     "text": [
      "Model 0: RandomForestClassifier()\n"
     ]
    },
    {
     "ename": "NameError",
     "evalue": "name 'x_train' is not defined",
     "output_type": "error",
     "traceback": [
      "\u001b[0;31m---------------------------------------------------------------------------\u001b[0m",
      "\u001b[0;31mNameError\u001b[0m                                 Traceback (most recent call last)",
      "\u001b[0;32m/var/folders/28/pgq6kgnj41gg2hkw75gfrb400000gn/T/ipykernel_78018/548723449.py\u001b[0m in \u001b[0;36m<module>\u001b[0;34m\u001b[0m\n\u001b[1;32m      6\u001b[0m     \u001b[0mprint\u001b[0m\u001b[0;34m(\u001b[0m\u001b[0;34mf'Model {i}: {model}'\u001b[0m\u001b[0;34m)\u001b[0m\u001b[0;34m\u001b[0m\u001b[0;34m\u001b[0m\u001b[0m\n\u001b[1;32m      7\u001b[0m \u001b[0;34m\u001b[0m\u001b[0m\n\u001b[0;32m----> 8\u001b[0;31m     \u001b[0mmodel\u001b[0m\u001b[0;34m.\u001b[0m\u001b[0mfit\u001b[0m\u001b[0;34m(\u001b[0m\u001b[0mX\u001b[0m \u001b[0;34m=\u001b[0m \u001b[0mx_train\u001b[0m\u001b[0;34m,\u001b[0m \u001b[0my\u001b[0m \u001b[0;34m=\u001b[0m \u001b[0my_train\u001b[0m\u001b[0;34m)\u001b[0m\u001b[0;34m\u001b[0m\u001b[0;34m\u001b[0m\u001b[0m\n\u001b[0m\u001b[1;32m      9\u001b[0m     \u001b[0mpredictions\u001b[0m \u001b[0;34m=\u001b[0m \u001b[0mmodel\u001b[0m\u001b[0;34m.\u001b[0m\u001b[0mpredict_proba\u001b[0m\u001b[0;34m(\u001b[0m\u001b[0mx_test\u001b[0m\u001b[0;34m)\u001b[0m\u001b[0;34m\u001b[0m\u001b[0;34m\u001b[0m\u001b[0m\n\u001b[1;32m     10\u001b[0m     \u001b[0mcross_entropy_loss\u001b[0m \u001b[0;34m=\u001b[0m \u001b[0mmetrics\u001b[0m\u001b[0;34m.\u001b[0m\u001b[0mlog_loss\u001b[0m\u001b[0;34m(\u001b[0m\u001b[0my_test\u001b[0m\u001b[0;34m,\u001b[0m \u001b[0mpredictions\u001b[0m\u001b[0;34m)\u001b[0m\u001b[0;34m\u001b[0m\u001b[0;34m\u001b[0m\u001b[0m\n",
      "\u001b[0;31mNameError\u001b[0m: name 'x_train' is not defined"
     ]
    }
   ],
   "source": [
    "#forbidden_columns = ['price','isUsed']\n",
    "#x_train, y_train, x_test, y_test = split_4_way(base.drop(forbidden_columns, axis=1), target_col='isBought', unkwown_week=89)\n",
    "\n",
    "for i, model in enumerate(models):\n",
    "    \n",
    "    print(f'Model {i}: {model}')\n",
    "    \n",
    "    model.fit(X = x_train, y = y_train)\n",
    "    predictions = model.predict_proba(x_test)\n",
    "    cross_entropy_loss = metrics.log_loss(y_test, predictions)\n",
    "    \n",
    "    print(f'Loss: {round(cross_entropy_loss,3)}\\n')"
   ]
  }
 ],
 "metadata": {
  "interpreter": {
   "hash": "aee8b7b246df8f9039afb4144a1f6fd8d2ca17a180786b69acc140d282b71a49"
  },
  "kernelspec": {
   "display_name": "Python 3.9.0 64-bit",
   "name": "python3"
  },
  "language_info": {
   "codemirror_mode": {
    "name": "ipython",
    "version": 3
   },
   "file_extension": ".py",
   "mimetype": "text/x-python",
   "name": "python",
   "nbconvert_exporter": "python",
   "pygments_lexer": "ipython3",
   "version": "3.9.0"
  },
  "orig_nbformat": 4
 },
 "nbformat": 4,
 "nbformat_minor": 2
}
