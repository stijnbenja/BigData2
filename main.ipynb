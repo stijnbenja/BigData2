{
 "cells": [
  {
   "cell_type": "code",
   "execution_count": 20,
   "metadata": {},
   "outputs": [],
   "source": [
    "import pandas as pd\n",
    "import numpy as np\n",
    "from sklearn.metrics import *\n",
    "import seaborn as sns\n",
    "sns.set(rc={'figure.figsize':(20,15)})\n",
    "from functions import create_base, add_basket_info, add_coupon_info\n",
    "from functions import get_baskets, get_coupons, get_prediction_index, get_3_files\n",
    "from functions import split_4_way"
   ]
  },
  {
   "cell_type": "code",
   "execution_count": 3,
   "metadata": {},
   "outputs": [],
   "source": [
    "baskets, coupons, prediction_index = get_3_files()\n",
    "baskets = baskets[baskets['customer']<2000]"
   ]
  },
  {
   "cell_type": "code",
   "execution_count": 4,
   "metadata": {},
   "outputs": [],
   "source": [
    "base = create_base(customers=range(1900,2000))\n",
    "base['basket'] = base['week'].astype(str) + '_' +base['customer'].astype(str)\n",
    "base = add_basket_info(base, baskets)\n",
    "base = add_coupon_info(base, baskets, coupons)"
   ]
  },
  {
   "cell_type": "code",
   "execution_count": 18,
   "metadata": {},
   "outputs": [],
   "source": [
    "x_train, y_train, x_test, y_test = split_4_way(base, target_col='isBought')"
   ]
  },
  {
   "cell_type": "markdown",
   "metadata": {},
   "source": [
    "# Trying to create categories"
   ]
  },
  {
   "cell_type": "code",
   "execution_count": null,
   "metadata": {},
   "outputs": [],
   "source": [
    "matrix = base.iloc[0:0+250, 5].values\n",
    "for i in range(1,base.basket.nunique()):\n",
    "    start = i*250\n",
    "    matrix = np.vstack((matrix, base.iloc[i:i+250, 5].values))\n",
    "    \n",
    "co_df = pd.DataFrame(matrix)\n",
    "co_matrix = co_df.T.dot(co_df)\n",
    "co_matrix[co_matrix > 10] = 1\n",
    "sns.heatmap(co_matrix, annot=False)"
   ]
  }
 ],
 "metadata": {
  "interpreter": {
   "hash": "aee8b7b246df8f9039afb4144a1f6fd8d2ca17a180786b69acc140d282b71a49"
  },
  "kernelspec": {
   "display_name": "Python 3.9.0 64-bit",
   "name": "python3"
  },
  "language_info": {
   "codemirror_mode": {
    "name": "ipython",
    "version": 3
   },
   "file_extension": ".py",
   "mimetype": "text/x-python",
   "name": "python",
   "nbconvert_exporter": "python",
   "pygments_lexer": "ipython3",
   "version": "3.9.0"
  },
  "orig_nbformat": 4
 },
 "nbformat": 4,
 "nbformat_minor": 2
}
