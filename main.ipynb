{
 "cells": [
  {
   "cell_type": "code",
   "execution_count": 504,
   "metadata": {},
   "outputs": [],
   "source": [
    "import pandas as pd\n",
    "import numpy as np\n",
    "from sklearn import metrics\n",
    "from sklearn import ensemble\n",
    "from sklearn import linear_model\n",
    "import seaborn as sns\n",
    "from functions import create_base, add_basket_info, add_coupon_info\n",
    "from functions import get_baskets, get_coupons, get_prediction_index, get_3_files\n",
    "from functions import split_4_way"
   ]
  },
  {
   "cell_type": "markdown",
   "metadata": {},
   "source": [
    "# Loading datasets"
   ]
  },
  {
   "cell_type": "code",
   "execution_count": 505,
   "metadata": {},
   "outputs": [],
   "source": [
    "baskets, coupons, prediction_index = get_3_files()\n",
    "customers = (1950,2000)\n",
    "n_customers = customers[1] - customers[0]\n",
    "baskets = baskets[(baskets['customer'] > customers[0]) & (baskets['customer'] < customers[1])]"
   ]
  },
  {
   "cell_type": "markdown",
   "metadata": {},
   "source": [
    "# Creating: Universal base"
   ]
  },
  {
   "cell_type": "code",
   "execution_count": 521,
   "metadata": {},
   "outputs": [],
   "source": [
    "def create_base(weeks=range(90), customers=range(2000)):\n",
    "    products = range(250)\n",
    "    n_weeks, n_customers, n_products = len(weeks), len(customers), len(products)\n",
    "\n",
    "    base = pd.DataFrame({\n",
    "    'week': np.array([[x] * n_products * n_customers for x in weeks]).flatten(),\n",
    "    'customer': np.array([[x] * n_products for x in customers] * n_weeks).flatten(),\n",
    "    'product': list(range(n_products)) * n_customers * n_weeks\n",
    "    })\n",
    "    \n",
    "    return base"
   ]
  },
  {
   "cell_type": "markdown",
   "metadata": {},
   "source": [
    "# Adding: Basket information"
   ]
  },
  {
   "cell_type": "code",
   "execution_count": 532,
   "metadata": {},
   "outputs": [],
   "source": [
    "def add_basket_info(base, baskets):\n",
    "    base = pd.merge(base, baskets, on=['week', 'customer','product'], how='left')\n",
    "    base['price'] = base['price'].fillna(0).astype(int)\n",
    "    base['isBought'] = (base['price'] > 0)\n",
    "    base['basket'] = base['week'].astype(str) + '_' + base['customer'].astype(str)\n",
    "    return base"
   ]
  },
  {
   "cell_type": "markdown",
   "metadata": {},
   "source": [
    "# Adding: Coupon information"
   ]
  },
  {
   "cell_type": "code",
   "execution_count": null,
   "metadata": {},
   "outputs": [],
   "source": [
    "def add_coupon_info(base, baskets, coupons):\n",
    "    base = pd.merge(base, coupons, on=['week', 'customer','product'], how='left')\n",
    "    base['discount'] = base['discount'].fillna(0).astype(int)\n",
    "    base = base.rename(columns={\"discount\": \"dGiven\"})\n",
    "    base['isGiven'] = (base['dGiven'] > 0)\n",
    "\n",
    "    normal_prices = baskets.groupby('product')['price'].max().values\n",
    "    base['highestPrice'] = base['product'].apply(lambda x: normal_prices[x])\n",
    "    base['isUsed'] = ((base['price'] != base['highestPrice']) & (base['price']!=0))\n",
    "    base.drop('highestPrice', axis=1, inplace=True)\n",
    "    return base"
   ]
  },
  {
   "cell_type": "markdown",
   "metadata": {},
   "source": [
    "# Finding: categories"
   ]
  },
  {
   "cell_type": "code",
   "execution_count": 539,
   "metadata": {},
   "outputs": [
    {
     "data": {
      "text/html": [
       "<div>\n",
       "<style scoped>\n",
       "    .dataframe tbody tr th:only-of-type {\n",
       "        vertical-align: middle;\n",
       "    }\n",
       "\n",
       "    .dataframe tbody tr th {\n",
       "        vertical-align: top;\n",
       "    }\n",
       "\n",
       "    .dataframe thead th {\n",
       "        text-align: right;\n",
       "    }\n",
       "</style>\n",
       "<table border=\"1\" class=\"dataframe\">\n",
       "  <thead>\n",
       "    <tr style=\"text-align: right;\">\n",
       "      <th></th>\n",
       "      <th>week</th>\n",
       "      <th>customer</th>\n",
       "      <th>product</th>\n",
       "      <th>price</th>\n",
       "      <th>isBought</th>\n",
       "      <th>basket</th>\n",
       "    </tr>\n",
       "  </thead>\n",
       "  <tbody>\n",
       "    <tr>\n",
       "      <th>0</th>\n",
       "      <td>0</td>\n",
       "      <td>1500</td>\n",
       "      <td>0</td>\n",
       "      <td>0</td>\n",
       "      <td>False</td>\n",
       "      <td>0_1500</td>\n",
       "    </tr>\n",
       "    <tr>\n",
       "      <th>1</th>\n",
       "      <td>0</td>\n",
       "      <td>1500</td>\n",
       "      <td>1</td>\n",
       "      <td>0</td>\n",
       "      <td>False</td>\n",
       "      <td>0_1500</td>\n",
       "    </tr>\n",
       "    <tr>\n",
       "      <th>2</th>\n",
       "      <td>0</td>\n",
       "      <td>1500</td>\n",
       "      <td>2</td>\n",
       "      <td>0</td>\n",
       "      <td>False</td>\n",
       "      <td>0_1500</td>\n",
       "    </tr>\n",
       "    <tr>\n",
       "      <th>3</th>\n",
       "      <td>0</td>\n",
       "      <td>1500</td>\n",
       "      <td>3</td>\n",
       "      <td>0</td>\n",
       "      <td>False</td>\n",
       "      <td>0_1500</td>\n",
       "    </tr>\n",
       "    <tr>\n",
       "      <th>4</th>\n",
       "      <td>0</td>\n",
       "      <td>1500</td>\n",
       "      <td>4</td>\n",
       "      <td>0</td>\n",
       "      <td>False</td>\n",
       "      <td>0_1500</td>\n",
       "    </tr>\n",
       "    <tr>\n",
       "      <th>...</th>\n",
       "      <td>...</td>\n",
       "      <td>...</td>\n",
       "      <td>...</td>\n",
       "      <td>...</td>\n",
       "      <td>...</td>\n",
       "      <td>...</td>\n",
       "    </tr>\n",
       "    <tr>\n",
       "      <th>11249995</th>\n",
       "      <td>89</td>\n",
       "      <td>1999</td>\n",
       "      <td>245</td>\n",
       "      <td>549</td>\n",
       "      <td>True</td>\n",
       "      <td>89_1999</td>\n",
       "    </tr>\n",
       "    <tr>\n",
       "      <th>11249996</th>\n",
       "      <td>89</td>\n",
       "      <td>1999</td>\n",
       "      <td>246</td>\n",
       "      <td>0</td>\n",
       "      <td>False</td>\n",
       "      <td>89_1999</td>\n",
       "    </tr>\n",
       "    <tr>\n",
       "      <th>11249997</th>\n",
       "      <td>89</td>\n",
       "      <td>1999</td>\n",
       "      <td>247</td>\n",
       "      <td>0</td>\n",
       "      <td>False</td>\n",
       "      <td>89_1999</td>\n",
       "    </tr>\n",
       "    <tr>\n",
       "      <th>11249998</th>\n",
       "      <td>89</td>\n",
       "      <td>1999</td>\n",
       "      <td>248</td>\n",
       "      <td>0</td>\n",
       "      <td>False</td>\n",
       "      <td>89_1999</td>\n",
       "    </tr>\n",
       "    <tr>\n",
       "      <th>11249999</th>\n",
       "      <td>89</td>\n",
       "      <td>1999</td>\n",
       "      <td>249</td>\n",
       "      <td>0</td>\n",
       "      <td>False</td>\n",
       "      <td>89_1999</td>\n",
       "    </tr>\n",
       "  </tbody>\n",
       "</table>\n",
       "<p>11250000 rows × 6 columns</p>\n",
       "</div>"
      ],
      "text/plain": [
       "          week  customer product  price  isBought   basket\n",
       "0            0      1500       0      0     False   0_1500\n",
       "1            0      1500       1      0     False   0_1500\n",
       "2            0      1500       2      0     False   0_1500\n",
       "3            0      1500       3      0     False   0_1500\n",
       "4            0      1500       4      0     False   0_1500\n",
       "...        ...       ...     ...    ...       ...      ...\n",
       "11249995    89      1999     245    549      True  89_1999\n",
       "11249996    89      1999     246      0     False  89_1999\n",
       "11249997    89      1999     247      0     False  89_1999\n",
       "11249998    89      1999     248      0     False  89_1999\n",
       "11249999    89      1999     249      0     False  89_1999\n",
       "\n",
       "[11250000 rows x 6 columns]"
      ]
     },
     "execution_count": 539,
     "metadata": {},
     "output_type": "execute_result"
    }
   ],
   "source": [
    "base"
   ]
  },
  {
   "cell_type": "code",
   "execution_count": 542,
   "metadata": {},
   "outputs": [],
   "source": [
    "matrix = np.matrix([np.array(base.iloc[x*250:x*250+250,5]) for x in range(n_baskets)]).astype(int)"
   ]
  },
  {
   "cell_type": "code",
   "execution_count": 543,
   "metadata": {},
   "outputs": [
    {
     "data": {
      "text/plain": [
       "matrix([[  1500,   1500,   1500, ...,   1500,   1500,   1500],\n",
       "        [  1501,   1501,   1501, ...,   1501,   1501,   1501],\n",
       "        [  1502,   1502,   1502, ...,   1502,   1502,   1502],\n",
       "        ...,\n",
       "        [891997, 891997, 891997, ..., 891997, 891997, 891997],\n",
       "        [891998, 891998, 891998, ..., 891998, 891998, 891998],\n",
       "        [891999, 891999, 891999, ..., 891999, 891999, 891999]])"
      ]
     },
     "execution_count": 543,
     "metadata": {},
     "output_type": "execute_result"
    }
   ],
   "source": [
    "matrix"
   ]
  },
  {
   "cell_type": "code",
   "execution_count": 541,
   "metadata": {},
   "outputs": [
    {
     "data": {
      "text/html": [
       "<div>\n",
       "<style scoped>\n",
       "    .dataframe tbody tr th:only-of-type {\n",
       "        vertical-align: middle;\n",
       "    }\n",
       "\n",
       "    .dataframe tbody tr th {\n",
       "        vertical-align: top;\n",
       "    }\n",
       "\n",
       "    .dataframe thead th {\n",
       "        text-align: right;\n",
       "    }\n",
       "</style>\n",
       "<table border=\"1\" class=\"dataframe\">\n",
       "  <thead>\n",
       "    <tr style=\"text-align: right;\">\n",
       "      <th></th>\n",
       "      <th>week</th>\n",
       "      <th>customer</th>\n",
       "      <th>product</th>\n",
       "      <th>price</th>\n",
       "      <th>isBought</th>\n",
       "      <th>basket</th>\n",
       "    </tr>\n",
       "  </thead>\n",
       "  <tbody>\n",
       "    <tr>\n",
       "      <th>0</th>\n",
       "      <td>0</td>\n",
       "      <td>1500</td>\n",
       "      <td>0</td>\n",
       "      <td>0</td>\n",
       "      <td>False</td>\n",
       "      <td>0_1500</td>\n",
       "    </tr>\n",
       "    <tr>\n",
       "      <th>1</th>\n",
       "      <td>0</td>\n",
       "      <td>1500</td>\n",
       "      <td>1</td>\n",
       "      <td>0</td>\n",
       "      <td>False</td>\n",
       "      <td>0_1500</td>\n",
       "    </tr>\n",
       "    <tr>\n",
       "      <th>2</th>\n",
       "      <td>0</td>\n",
       "      <td>1500</td>\n",
       "      <td>2</td>\n",
       "      <td>0</td>\n",
       "      <td>False</td>\n",
       "      <td>0_1500</td>\n",
       "    </tr>\n",
       "    <tr>\n",
       "      <th>3</th>\n",
       "      <td>0</td>\n",
       "      <td>1500</td>\n",
       "      <td>3</td>\n",
       "      <td>0</td>\n",
       "      <td>False</td>\n",
       "      <td>0_1500</td>\n",
       "    </tr>\n",
       "    <tr>\n",
       "      <th>4</th>\n",
       "      <td>0</td>\n",
       "      <td>1500</td>\n",
       "      <td>4</td>\n",
       "      <td>0</td>\n",
       "      <td>False</td>\n",
       "      <td>0_1500</td>\n",
       "    </tr>\n",
       "    <tr>\n",
       "      <th>...</th>\n",
       "      <td>...</td>\n",
       "      <td>...</td>\n",
       "      <td>...</td>\n",
       "      <td>...</td>\n",
       "      <td>...</td>\n",
       "      <td>...</td>\n",
       "    </tr>\n",
       "    <tr>\n",
       "      <th>11249995</th>\n",
       "      <td>89</td>\n",
       "      <td>1999</td>\n",
       "      <td>245</td>\n",
       "      <td>549</td>\n",
       "      <td>True</td>\n",
       "      <td>89_1999</td>\n",
       "    </tr>\n",
       "    <tr>\n",
       "      <th>11249996</th>\n",
       "      <td>89</td>\n",
       "      <td>1999</td>\n",
       "      <td>246</td>\n",
       "      <td>0</td>\n",
       "      <td>False</td>\n",
       "      <td>89_1999</td>\n",
       "    </tr>\n",
       "    <tr>\n",
       "      <th>11249997</th>\n",
       "      <td>89</td>\n",
       "      <td>1999</td>\n",
       "      <td>247</td>\n",
       "      <td>0</td>\n",
       "      <td>False</td>\n",
       "      <td>89_1999</td>\n",
       "    </tr>\n",
       "    <tr>\n",
       "      <th>11249998</th>\n",
       "      <td>89</td>\n",
       "      <td>1999</td>\n",
       "      <td>248</td>\n",
       "      <td>0</td>\n",
       "      <td>False</td>\n",
       "      <td>89_1999</td>\n",
       "    </tr>\n",
       "    <tr>\n",
       "      <th>11249999</th>\n",
       "      <td>89</td>\n",
       "      <td>1999</td>\n",
       "      <td>249</td>\n",
       "      <td>0</td>\n",
       "      <td>False</td>\n",
       "      <td>89_1999</td>\n",
       "    </tr>\n",
       "  </tbody>\n",
       "</table>\n",
       "<p>11250000 rows × 6 columns</p>\n",
       "</div>"
      ],
      "text/plain": [
       "          week  customer product  price  isBought   basket\n",
       "0            0      1500       0      0     False   0_1500\n",
       "1            0      1500       1      0     False   0_1500\n",
       "2            0      1500       2      0     False   0_1500\n",
       "3            0      1500       3      0     False   0_1500\n",
       "4            0      1500       4      0     False   0_1500\n",
       "...        ...       ...     ...    ...       ...      ...\n",
       "11249995    89      1999     245    549      True  89_1999\n",
       "11249996    89      1999     246      0     False  89_1999\n",
       "11249997    89      1999     247      0     False  89_1999\n",
       "11249998    89      1999     248      0     False  89_1999\n",
       "11249999    89      1999     249      0     False  89_1999\n",
       "\n",
       "[11250000 rows x 6 columns]"
      ]
     },
     "execution_count": 541,
     "metadata": {},
     "output_type": "execute_result"
    }
   ],
   "source": [
    "base"
   ]
  },
  {
   "cell_type": "code",
   "execution_count": 553,
   "metadata": {},
   "outputs": [],
   "source": [
    "base = create_base(customers=range(1500,2000))\n",
    "base = add_basket_info(base,baskets)\n",
    "\n",
    "n_baskets = base['basket'].nunique()\n",
    "\n",
    "matrix = np.matrix([np.array(base.iloc[x*250:x*250+250,:].loc[:,'isBought']) for x in range(n_baskets)]).astype(int)\n",
    "occurency_matrix = matrix.T.dot(matrix)\n",
    "occurency_matrix[occurency_matrix > 1] = 1\n",
    "\n",
    "sns.set(rc={'figure.figsize':(6,5)})\n",
    "sns.heatmap(occurency_matrix, annot=False)"
   ]
  },
  {
   "cell_type": "code",
   "execution_count": null,
   "metadata": {},
   "outputs": [
    {
     "data": {
      "text/plain": [
       "<AxesSubplot:>"
      ]
     },
     "execution_count": 552,
     "metadata": {},
     "output_type": "execute_result"
    },
    {
     "data": {
      "image/png": "[encoded data removed]",
      "text/plain": [
       "<Figure size 432x360 with 2 Axes>"
      ]
     },
     "metadata": {},
     "output_type": "display_data"
    }
   ],
   "source": [
    "sns.heatmap(occurency_matrix[:31,:31], annot=False)"
   ]
  },
  {
   "cell_type": "markdown",
   "metadata": {},
   "source": [
    "# Adding: Categories"
   ]
  },
  {
   "cell_type": "code",
   "execution_count": 512,
   "metadata": {},
   "outputs": [],
   "source": [
    "def add_category(base):\n",
    "    base['category'] = (base['product'] / 10).astype(int)\n",
    "    return base"
   ]
  },
  {
   "cell_type": "markdown",
   "metadata": {},
   "source": [
    "# Adding: Probabilities (product & category)"
   ]
  },
  {
   "cell_type": "code",
   "execution_count": 513,
   "metadata": {},
   "outputs": [],
   "source": [
    "def add_frequencies(base):\n",
    "    prod_probs_df = (\n",
    "        baskets.groupby(['customer','product'])['week'].count() / 90) \\\n",
    "        .reset_index() \\\n",
    "        .rename(columns={'week':'probability'})\n",
    "        \n",
    "    baskets['category'] = (baskets['product'].astype(int) / 10).astype(int)\n",
    "\n",
    "    cat_probs_df = (\n",
    "        baskets.groupby(['customer','category'])['week'].count() / 90) \\\n",
    "        .reset_index() \\\n",
    "        .rename(columns={'week':'probability'})\n",
    "        \n",
    "    base = pd.merge(base, prod_probs_df, on=['customer','product'] ,how='left')\n",
    "    base = pd.merge(base, cat_probs_df, on=['customer','category'] ,how='left')\n",
    "    base.rename(columns={'probability_x':'p_prod', 'probability_y':'p_cat'},inplace=True)\n",
    "    \n",
    "    return base"
   ]
  },
  {
   "cell_type": "markdown",
   "metadata": {},
   "source": [
    "# Adding: Rolling frequencies"
   ]
  },
  {
   "cell_type": "code",
   "execution_count": 514,
   "metadata": {},
   "outputs": [],
   "source": [
    "def get_rolling_frequencies(n_weeks=5, category=False):\n",
    "    \n",
    "    rolling_df = pd.DataFrame()\n",
    "    \n",
    "    for week_nr in range(n_weeks,89+1):\n",
    "\n",
    "        start = week_nr - n_weeks - 1\n",
    "        end = week_nr\n",
    "\n",
    "        single_week = (\n",
    "            base[(start < base['week']) & (base['week'] < end)] \n",
    "            .groupby(['customer',f\"{'category' if category else 'product'}\"]) \n",
    "            .agg({'week':'last','isBought':'sum'}) \n",
    "            .reset_index()\n",
    "            )\n",
    "        \n",
    "        single_week['week'] = single_week['week'] + 1\n",
    "        single_week['isBought'] = single_week['isBought'] / n_weeks\n",
    "        rolling_df = pd.concat([rolling_df, single_week])\n",
    "    \n",
    "    return rolling_df"
   ]
  },
  {
   "cell_type": "code",
   "execution_count": 515,
   "metadata": {},
   "outputs": [],
   "source": [
    "def add_rolling_frequencies(base):\n",
    "    \n",
    "    values = [5,10,30]\n",
    "    prod_names = [f'roll_prod_{value}' for value in values]\n",
    "    cat_names  = [f'roll_cat_{value}' for value in values]\n",
    "\n",
    "    for i, name in enumerate(prod_names):\n",
    "        rolled = get_rolling_frequencies(n_weeks=values[i]).rename(columns={'isBought':name})\n",
    "        base = pd.merge(base, rolled, on=['week','customer','product'],how='left')\n",
    "\n",
    "    for i, name in enumerate(cat_names):\n",
    "        rolled = get_rolling_frequencies(n_weeks=values[i], category=True).rename(columns={'isBought':name})\n",
    "        base2 = pd.merge(base, rolled, on=['week','customer','category'],how='left') \n",
    "        \n",
    "    base.loc[:,prod_names[0]:] = base2.loc[:,prod_names[0]:].fillna(0)  \n",
    "    \n",
    "    return base"
   ]
  },
  {
   "cell_type": "markdown",
   "metadata": {},
   "source": [
    "# Adding: Weeks since last buy (per product and per category)"
   ]
  },
  {
   "cell_type": "code",
   "execution_count": 516,
   "metadata": {},
   "outputs": [],
   "source": [
    "def buy_weeks_to_ago(buy_weeks):\n",
    "    weeks_past = 90\n",
    "    val = []\n",
    "    bought = False\n",
    "\n",
    "    for i in range(90):\n",
    "        if i in buy_weeks:\n",
    "            weeks_past = 0\n",
    "            val.append(weeks_past)\n",
    "            bought = True\n",
    "        elif(bought==True): \n",
    "            weeks_past += 1 \n",
    "            val.append(weeks_past)\n",
    "        else:\n",
    "            val.append(90)\n",
    "    return val"
   ]
  },
  {
   "cell_type": "code",
   "execution_count": 517,
   "metadata": {},
   "outputs": [],
   "source": [
    "def add_week_ago(base):\n",
    "    \n",
    "    only_bought = base[base['isBought']==1]\n",
    "    pairs = only_bought.groupby(['customer','product']).size().reset_index(inplace=False)\n",
    "\n",
    "    all_pairs = pd.DataFrame()\n",
    "\n",
    "    for i in range(len(pairs)):\n",
    "        customer = pairs.iloc[i,0]\n",
    "        product = pairs.iloc[i,1]\n",
    "        \n",
    "        df = pd.DataFrame({\n",
    "            'week':range(90),\n",
    "            'customer':customer, \n",
    "            'product':product, \n",
    "            })\n",
    "        \n",
    "        buy_weeks = list(only_bought[(only_bought['product']==product) & (only_bought['customer']==customer)]['week'])\n",
    "        df['weeks_ago'] = buy_weeks_to_ago(buy_weeks)\n",
    "        all_pairs = pd.concat([all_pairs,df])\n",
    "        \n",
    "    base = pd.merge(base, all_pairs, on=['week','customer','product'],how='left').fillna(90)\n",
    "    \n",
    "    return base"
   ]
  },
  {
   "cell_type": "markdown",
   "metadata": {},
   "source": [
    "# Modelling"
   ]
  },
  {
   "cell_type": "code",
   "execution_count": 518,
   "metadata": {},
   "outputs": [
    {
     "data": {
      "text/html": [
       "<div>\n",
       "<style scoped>\n",
       "    .dataframe tbody tr th:only-of-type {\n",
       "        vertical-align: middle;\n",
       "    }\n",
       "\n",
       "    .dataframe tbody tr th {\n",
       "        vertical-align: top;\n",
       "    }\n",
       "\n",
       "    .dataframe thead th {\n",
       "        text-align: right;\n",
       "    }\n",
       "</style>\n",
       "<table border=\"1\" class=\"dataframe\">\n",
       "  <thead>\n",
       "    <tr style=\"text-align: right;\">\n",
       "      <th></th>\n",
       "      <th>week</th>\n",
       "      <th>customer</th>\n",
       "      <th>product</th>\n",
       "      <th>basket</th>\n",
       "      <th>price</th>\n",
       "      <th>isBought</th>\n",
       "      <th>dGiven</th>\n",
       "      <th>isGiven</th>\n",
       "      <th>isUsed</th>\n",
       "    </tr>\n",
       "  </thead>\n",
       "  <tbody>\n",
       "    <tr>\n",
       "      <th>0</th>\n",
       "      <td>0</td>\n",
       "      <td>1950</td>\n",
       "      <td>0</td>\n",
       "      <td>0_1950</td>\n",
       "      <td>0</td>\n",
       "      <td>False</td>\n",
       "      <td>0</td>\n",
       "      <td>False</td>\n",
       "      <td>False</td>\n",
       "    </tr>\n",
       "    <tr>\n",
       "      <th>1</th>\n",
       "      <td>0</td>\n",
       "      <td>1950</td>\n",
       "      <td>1</td>\n",
       "      <td>0_1950</td>\n",
       "      <td>0</td>\n",
       "      <td>False</td>\n",
       "      <td>0</td>\n",
       "      <td>False</td>\n",
       "      <td>False</td>\n",
       "    </tr>\n",
       "    <tr>\n",
       "      <th>2</th>\n",
       "      <td>0</td>\n",
       "      <td>1950</td>\n",
       "      <td>2</td>\n",
       "      <td>0_1950</td>\n",
       "      <td>0</td>\n",
       "      <td>False</td>\n",
       "      <td>0</td>\n",
       "      <td>False</td>\n",
       "      <td>False</td>\n",
       "    </tr>\n",
       "    <tr>\n",
       "      <th>3</th>\n",
       "      <td>0</td>\n",
       "      <td>1950</td>\n",
       "      <td>3</td>\n",
       "      <td>0_1950</td>\n",
       "      <td>0</td>\n",
       "      <td>False</td>\n",
       "      <td>0</td>\n",
       "      <td>False</td>\n",
       "      <td>False</td>\n",
       "    </tr>\n",
       "    <tr>\n",
       "      <th>4</th>\n",
       "      <td>0</td>\n",
       "      <td>1950</td>\n",
       "      <td>4</td>\n",
       "      <td>0_1950</td>\n",
       "      <td>0</td>\n",
       "      <td>False</td>\n",
       "      <td>0</td>\n",
       "      <td>False</td>\n",
       "      <td>False</td>\n",
       "    </tr>\n",
       "    <tr>\n",
       "      <th>...</th>\n",
       "      <td>...</td>\n",
       "      <td>...</td>\n",
       "      <td>...</td>\n",
       "      <td>...</td>\n",
       "      <td>...</td>\n",
       "      <td>...</td>\n",
       "      <td>...</td>\n",
       "      <td>...</td>\n",
       "      <td>...</td>\n",
       "    </tr>\n",
       "    <tr>\n",
       "      <th>1124995</th>\n",
       "      <td>89</td>\n",
       "      <td>1999</td>\n",
       "      <td>245</td>\n",
       "      <td>89_1999</td>\n",
       "      <td>549</td>\n",
       "      <td>True</td>\n",
       "      <td>0</td>\n",
       "      <td>False</td>\n",
       "      <td>False</td>\n",
       "    </tr>\n",
       "    <tr>\n",
       "      <th>1124996</th>\n",
       "      <td>89</td>\n",
       "      <td>1999</td>\n",
       "      <td>246</td>\n",
       "      <td>89_1999</td>\n",
       "      <td>0</td>\n",
       "      <td>False</td>\n",
       "      <td>30</td>\n",
       "      <td>True</td>\n",
       "      <td>False</td>\n",
       "    </tr>\n",
       "    <tr>\n",
       "      <th>1124997</th>\n",
       "      <td>89</td>\n",
       "      <td>1999</td>\n",
       "      <td>247</td>\n",
       "      <td>89_1999</td>\n",
       "      <td>0</td>\n",
       "      <td>False</td>\n",
       "      <td>0</td>\n",
       "      <td>False</td>\n",
       "      <td>False</td>\n",
       "    </tr>\n",
       "    <tr>\n",
       "      <th>1124998</th>\n",
       "      <td>89</td>\n",
       "      <td>1999</td>\n",
       "      <td>248</td>\n",
       "      <td>89_1999</td>\n",
       "      <td>0</td>\n",
       "      <td>False</td>\n",
       "      <td>0</td>\n",
       "      <td>False</td>\n",
       "      <td>False</td>\n",
       "    </tr>\n",
       "    <tr>\n",
       "      <th>1124999</th>\n",
       "      <td>89</td>\n",
       "      <td>1999</td>\n",
       "      <td>249</td>\n",
       "      <td>89_1999</td>\n",
       "      <td>0</td>\n",
       "      <td>False</td>\n",
       "      <td>0</td>\n",
       "      <td>False</td>\n",
       "      <td>False</td>\n",
       "    </tr>\n",
       "  </tbody>\n",
       "</table>\n",
       "<p>1125000 rows × 9 columns</p>\n",
       "</div>"
      ],
      "text/plain": [
       "         week  customer product   basket  price  isBought  dGiven  isGiven  \\\n",
       "0           0      1950       0   0_1950      0     False       0    False   \n",
       "1           0      1950       1   0_1950      0     False       0    False   \n",
       "2           0      1950       2   0_1950      0     False       0    False   \n",
       "3           0      1950       3   0_1950      0     False       0    False   \n",
       "4           0      1950       4   0_1950      0     False       0    False   \n",
       "...       ...       ...     ...      ...    ...       ...     ...      ...   \n",
       "1124995    89      1999     245  89_1999    549      True       0    False   \n",
       "1124996    89      1999     246  89_1999      0     False      30     True   \n",
       "1124997    89      1999     247  89_1999      0     False       0    False   \n",
       "1124998    89      1999     248  89_1999      0     False       0    False   \n",
       "1124999    89      1999     249  89_1999      0     False       0    False   \n",
       "\n",
       "         isUsed  \n",
       "0         False  \n",
       "1         False  \n",
       "2         False  \n",
       "3         False  \n",
       "4         False  \n",
       "...         ...  \n",
       "1124995   False  \n",
       "1124996   False  \n",
       "1124997   False  \n",
       "1124998   False  \n",
       "1124999   False  \n",
       "\n",
       "[1125000 rows x 9 columns]"
      ]
     },
     "execution_count": 518,
     "metadata": {},
     "output_type": "execute_result"
    }
   ],
   "source": [
    "base = "
   ]
  },
  {
   "cell_type": "code",
   "execution_count": 519,
   "metadata": {},
   "outputs": [],
   "source": [
    "base3 = base2.drop(['price','isUsed','basket'],axis=1)\n",
    "x_train, y_train, x_test, y_test = split_4_way(base3, target_col='isBought', unkwown_week=89)"
   ]
  },
  {
   "cell_type": "code",
   "execution_count": 520,
   "metadata": {},
   "outputs": [
    {
     "ename": "KeyError",
     "evalue": "'p_prod'",
     "output_type": "error",
     "traceback": [
      "\u001b[0;31m---------------------------------------------------------------------------\u001b[0m",
      "\u001b[0;31mKeyError\u001b[0m                                  Traceback (most recent call last)",
      "\u001b[0;32m/Library/Frameworks/Python.framework/Versions/3.9/lib/python3.9/site-packages/pandas/core/indexes/base.py\u001b[0m in \u001b[0;36mget_loc\u001b[0;34m(self, key, method, tolerance)\u001b[0m\n\u001b[1;32m   3360\u001b[0m             \u001b[0;32mtry\u001b[0m\u001b[0;34m:\u001b[0m\u001b[0;34m\u001b[0m\u001b[0;34m\u001b[0m\u001b[0m\n\u001b[0;32m-> 3361\u001b[0;31m                 \u001b[0;32mreturn\u001b[0m \u001b[0mself\u001b[0m\u001b[0;34m.\u001b[0m\u001b[0m_engine\u001b[0m\u001b[0;34m.\u001b[0m\u001b[0mget_loc\u001b[0m\u001b[0;34m(\u001b[0m\u001b[0mcasted_key\u001b[0m\u001b[0;34m)\u001b[0m\u001b[0;34m\u001b[0m\u001b[0;34m\u001b[0m\u001b[0m\n\u001b[0m\u001b[1;32m   3362\u001b[0m             \u001b[0;32mexcept\u001b[0m \u001b[0mKeyError\u001b[0m \u001b[0;32mas\u001b[0m \u001b[0merr\u001b[0m\u001b[0;34m:\u001b[0m\u001b[0;34m\u001b[0m\u001b[0;34m\u001b[0m\u001b[0m\n",
      "\u001b[0;32m/Library/Frameworks/Python.framework/Versions/3.9/lib/python3.9/site-packages/pandas/_libs/index.pyx\u001b[0m in \u001b[0;36mpandas._libs.index.IndexEngine.get_loc\u001b[0;34m()\u001b[0m\n",
      "\u001b[0;32m/Library/Frameworks/Python.framework/Versions/3.9/lib/python3.9/site-packages/pandas/_libs/index.pyx\u001b[0m in \u001b[0;36mpandas._libs.index.IndexEngine.get_loc\u001b[0;34m()\u001b[0m\n",
      "\u001b[0;32mpandas/_libs/hashtable_class_helper.pxi\u001b[0m in \u001b[0;36mpandas._libs.hashtable.PyObjectHashTable.get_item\u001b[0;34m()\u001b[0m\n",
      "\u001b[0;32mpandas/_libs/hashtable_class_helper.pxi\u001b[0m in \u001b[0;36mpandas._libs.hashtable.PyObjectHashTable.get_item\u001b[0;34m()\u001b[0m\n",
      "\u001b[0;31mKeyError\u001b[0m: 'p_prod'",
      "\nThe above exception was the direct cause of the following exception:\n",
      "\u001b[0;31mKeyError\u001b[0m                                  Traceback (most recent call last)",
      "\u001b[0;32m/var/folders/28/pgq6kgnj41gg2hkw75gfrb400000gn/T/ipykernel_17898/2634606590.py\u001b[0m in \u001b[0;36m<module>\u001b[0;34m\u001b[0m\n\u001b[0;32m----> 1\u001b[0;31m \u001b[0mbase\u001b[0m\u001b[0;34m[\u001b[0m\u001b[0;34m'p_prod'\u001b[0m\u001b[0;34m]\u001b[0m \u001b[0;34m=\u001b[0m \u001b[0mbase\u001b[0m\u001b[0;34m[\u001b[0m\u001b[0;34m'p_prod'\u001b[0m\u001b[0;34m]\u001b[0m\u001b[0;34m.\u001b[0m\u001b[0mfillna\u001b[0m\u001b[0;34m(\u001b[0m\u001b[0;36m0\u001b[0m\u001b[0;34m)\u001b[0m\u001b[0;34m\u001b[0m\u001b[0;34m\u001b[0m\u001b[0m\n\u001b[0m\u001b[1;32m      2\u001b[0m \u001b[0mbase\u001b[0m\u001b[0;34m[\u001b[0m\u001b[0;34m'p_cat'\u001b[0m\u001b[0;34m]\u001b[0m \u001b[0;34m=\u001b[0m \u001b[0mbase\u001b[0m\u001b[0;34m[\u001b[0m\u001b[0;34m'p_cat'\u001b[0m\u001b[0;34m]\u001b[0m\u001b[0;34m.\u001b[0m\u001b[0mfillna\u001b[0m\u001b[0;34m(\u001b[0m\u001b[0;36m0\u001b[0m\u001b[0;34m)\u001b[0m\u001b[0;34m\u001b[0m\u001b[0;34m\u001b[0m\u001b[0m\n\u001b[1;32m      3\u001b[0m \u001b[0;34m\u001b[0m\u001b[0m\n\u001b[1;32m      4\u001b[0m \u001b[0mbase2\u001b[0m \u001b[0;34m=\u001b[0m \u001b[0mbase\u001b[0m\u001b[0;34m[\u001b[0m\u001b[0;34m[\u001b[0m\u001b[0;34m'week'\u001b[0m\u001b[0;34m,\u001b[0m\u001b[0;34m'product'\u001b[0m\u001b[0;34m,\u001b[0m\u001b[0;34m'dGiven'\u001b[0m\u001b[0;34m,\u001b[0m\u001b[0;34m'isBought'\u001b[0m\u001b[0;34m,\u001b[0m\u001b[0;34m'isGiven'\u001b[0m\u001b[0;34m,\u001b[0m\u001b[0;34m'p_prod'\u001b[0m\u001b[0;34m,\u001b[0m\u001b[0;34m'p_cat'\u001b[0m\u001b[0;34m]\u001b[0m\u001b[0;34m]\u001b[0m\u001b[0;34m\u001b[0m\u001b[0;34m\u001b[0m\u001b[0m\n\u001b[1;32m      5\u001b[0m \u001b[0mx_train\u001b[0m\u001b[0;34m,\u001b[0m \u001b[0my_train\u001b[0m\u001b[0;34m,\u001b[0m \u001b[0mx_test\u001b[0m\u001b[0;34m,\u001b[0m \u001b[0my_test\u001b[0m \u001b[0;34m=\u001b[0m \u001b[0msplit_4_way\u001b[0m\u001b[0;34m(\u001b[0m\u001b[0mbase2\u001b[0m\u001b[0;34m,\u001b[0m \u001b[0mtarget_col\u001b[0m\u001b[0;34m=\u001b[0m\u001b[0;34m'isBought'\u001b[0m\u001b[0;34m,\u001b[0m \u001b[0munkwown_week\u001b[0m\u001b[0;34m=\u001b[0m\u001b[0;36m89\u001b[0m\u001b[0;34m)\u001b[0m\u001b[0;34m\u001b[0m\u001b[0;34m\u001b[0m\u001b[0m\n",
      "\u001b[0;32m/Library/Frameworks/Python.framework/Versions/3.9/lib/python3.9/site-packages/pandas/core/frame.py\u001b[0m in \u001b[0;36m__getitem__\u001b[0;34m(self, key)\u001b[0m\n\u001b[1;32m   3456\u001b[0m             \u001b[0;32mif\u001b[0m \u001b[0mself\u001b[0m\u001b[0;34m.\u001b[0m\u001b[0mcolumns\u001b[0m\u001b[0;34m.\u001b[0m\u001b[0mnlevels\u001b[0m \u001b[0;34m>\u001b[0m \u001b[0;36m1\u001b[0m\u001b[0;34m:\u001b[0m\u001b[0;34m\u001b[0m\u001b[0;34m\u001b[0m\u001b[0m\n\u001b[1;32m   3457\u001b[0m                 \u001b[0;32mreturn\u001b[0m \u001b[0mself\u001b[0m\u001b[0;34m.\u001b[0m\u001b[0m_getitem_multilevel\u001b[0m\u001b[0;34m(\u001b[0m\u001b[0mkey\u001b[0m\u001b[0;34m)\u001b[0m\u001b[0;34m\u001b[0m\u001b[0;34m\u001b[0m\u001b[0m\n\u001b[0;32m-> 3458\u001b[0;31m             \u001b[0mindexer\u001b[0m \u001b[0;34m=\u001b[0m \u001b[0mself\u001b[0m\u001b[0;34m.\u001b[0m\u001b[0mcolumns\u001b[0m\u001b[0;34m.\u001b[0m\u001b[0mget_loc\u001b[0m\u001b[0;34m(\u001b[0m\u001b[0mkey\u001b[0m\u001b[0;34m)\u001b[0m\u001b[0;34m\u001b[0m\u001b[0;34m\u001b[0m\u001b[0m\n\u001b[0m\u001b[1;32m   3459\u001b[0m             \u001b[0;32mif\u001b[0m \u001b[0mis_integer\u001b[0m\u001b[0;34m(\u001b[0m\u001b[0mindexer\u001b[0m\u001b[0;34m)\u001b[0m\u001b[0;34m:\u001b[0m\u001b[0;34m\u001b[0m\u001b[0;34m\u001b[0m\u001b[0m\n\u001b[1;32m   3460\u001b[0m                 \u001b[0mindexer\u001b[0m \u001b[0;34m=\u001b[0m \u001b[0;34m[\u001b[0m\u001b[0mindexer\u001b[0m\u001b[0;34m]\u001b[0m\u001b[0;34m\u001b[0m\u001b[0;34m\u001b[0m\u001b[0m\n",
      "\u001b[0;32m/Library/Frameworks/Python.framework/Versions/3.9/lib/python3.9/site-packages/pandas/core/indexes/base.py\u001b[0m in \u001b[0;36mget_loc\u001b[0;34m(self, key, method, tolerance)\u001b[0m\n\u001b[1;32m   3361\u001b[0m                 \u001b[0;32mreturn\u001b[0m \u001b[0mself\u001b[0m\u001b[0;34m.\u001b[0m\u001b[0m_engine\u001b[0m\u001b[0;34m.\u001b[0m\u001b[0mget_loc\u001b[0m\u001b[0;34m(\u001b[0m\u001b[0mcasted_key\u001b[0m\u001b[0;34m)\u001b[0m\u001b[0;34m\u001b[0m\u001b[0;34m\u001b[0m\u001b[0m\n\u001b[1;32m   3362\u001b[0m             \u001b[0;32mexcept\u001b[0m \u001b[0mKeyError\u001b[0m \u001b[0;32mas\u001b[0m \u001b[0merr\u001b[0m\u001b[0;34m:\u001b[0m\u001b[0;34m\u001b[0m\u001b[0;34m\u001b[0m\u001b[0m\n\u001b[0;32m-> 3363\u001b[0;31m                 \u001b[0;32mraise\u001b[0m \u001b[0mKeyError\u001b[0m\u001b[0;34m(\u001b[0m\u001b[0mkey\u001b[0m\u001b[0;34m)\u001b[0m \u001b[0;32mfrom\u001b[0m \u001b[0merr\u001b[0m\u001b[0;34m\u001b[0m\u001b[0;34m\u001b[0m\u001b[0m\n\u001b[0m\u001b[1;32m   3364\u001b[0m \u001b[0;34m\u001b[0m\u001b[0m\n\u001b[1;32m   3365\u001b[0m         \u001b[0;32mif\u001b[0m \u001b[0mis_scalar\u001b[0m\u001b[0;34m(\u001b[0m\u001b[0mkey\u001b[0m\u001b[0;34m)\u001b[0m \u001b[0;32mand\u001b[0m \u001b[0misna\u001b[0m\u001b[0;34m(\u001b[0m\u001b[0mkey\u001b[0m\u001b[0;34m)\u001b[0m \u001b[0;32mand\u001b[0m \u001b[0;32mnot\u001b[0m \u001b[0mself\u001b[0m\u001b[0;34m.\u001b[0m\u001b[0mhasnans\u001b[0m\u001b[0;34m:\u001b[0m\u001b[0;34m\u001b[0m\u001b[0;34m\u001b[0m\u001b[0m\n",
      "\u001b[0;31mKeyError\u001b[0m: 'p_prod'"
     ]
    }
   ],
   "source": [
    "base['p_prod'] = base['p_prod'].fillna(0)\n",
    "base['p_cat'] = base['p_cat'].fillna(0)\n",
    "\n",
    "base2 = base[['week','product','dGiven','isBought','isGiven','p_prod','p_cat']]\n",
    "x_train, y_train, x_test, y_test = split_4_way(base2, target_col='isBought', unkwown_week=89)"
   ]
  },
  {
   "cell_type": "code",
   "execution_count": null,
   "metadata": {},
   "outputs": [
    {
     "name": "stdout",
     "output_type": "stream",
     "text": [
      "Will take 0m 6s ...\n",
      "Loss: 0.082\n"
     ]
    }
   ],
   "source": [
    "\n",
    "model = linear_model.LogisticRegression() #0.087 - 7.3 min\n",
    "model.fit(X=x_train,y=y_train)\n",
    "predictions = model.predict_proba(x_test)\n",
    "loss = metrics.log_loss(y_test, predictions)\n",
    "print(f'Loss: {round(loss,3)}')"
   ]
  },
  {
   "cell_type": "code",
   "execution_count": 315,
   "metadata": {},
   "outputs": [
    {
     "name": "stdout",
     "output_type": "stream",
     "text": [
      "Will take 1m 16s ...\n",
      "Loss: 0.066\n"
     ]
    }
   ],
   "source": [
    "\n",
    "model = ensemble.GradientBoostingClassifier() #0.071 -> 0.066\n",
    "model.fit(X=x_train,y=y_train)\n",
    "predictions = model.predict_proba(x_test)\n",
    "loss = metrics.log_loss(y_test, predictions)\n",
    "print(f'Loss: {round(loss,3)}')"
   ]
  },
  {
   "cell_type": "code",
   "execution_count": null,
   "metadata": {},
   "outputs": [],
   "source": [
    "#takes(153,100,n_customers)\n",
    "model = ensemble.RandomForestClassifier() #0.071 -> 0.066 ->\n",
    "model.fit(X=x_train,y=y_train)\n",
    "predictions = model.predict_proba(x_test) \n",
    "loss = metrics.log_loss(y_test, predictions)\n",
    "print(f'Loss: {round(loss,3)}')"
   ]
  }
 ],
 "metadata": {
  "interpreter": {
   "hash": "aee8b7b246df8f9039afb4144a1f6fd8d2ca17a180786b69acc140d282b71a49"
  },
  "kernelspec": {
   "display_name": "Python 3.9.0 64-bit",
   "name": "python3"
  },
  "language_info": {
   "codemirror_mode": {
    "name": "ipython",
    "version": 3
   },
   "file_extension": ".py",
   "mimetype": "text/x-python",
   "name": "python",
   "nbconvert_exporter": "python",
   "pygments_lexer": "ipython3",
   "version": "3.9.0"
  },
  "orig_nbformat": 4
 },
 "nbformat": 4,
 "nbformat_minor": 2
}
